{
 "cells": [
  {
   "cell_type": "code",
   "execution_count": 2,
   "id": "f573d05d",
   "metadata": {},
   "outputs": [],
   "source": [
    "import time\n",
    "from time import process_time\n",
    "import pandas as pd\n",
    "import numpy as np\n",
    "import matplotlib.pyplot as plt\n",
    "import plotly.express as px\n",
    "from mlxtend.preprocessing import TransactionEncoder\n",
    "from mlxtend.frequent_patterns import apriori, fpmax, fpgrowth, association_rules\n",
    "#import seaborn as sns\n",
    "#import warnings\n",
    "#from PyARMViz import PyARMViz\n"
   ]
  },
  {
   "cell_type": "code",
   "execution_count": 3,
   "id": "a5c95fdc",
   "metadata": {},
   "outputs": [],
   "source": [
    "order = pd.read_csv('order_products_train.csv')\n",
    "product = pd.read_csv('products.csv',encoding = 'gbk')\n",
    "aisles = pd.read_csv('aisles.csv')\n",
    "department = pd.read_csv('departments.csv')"
   ]
  },
  {
   "cell_type": "code",
   "execution_count": 7,
   "id": "df9b50af",
   "metadata": {},
   "outputs": [
    {
     "data": {
      "text/html": [
       "<div>\n",
       "<style scoped>\n",
       "    .dataframe tbody tr th:only-of-type {\n",
       "        vertical-align: middle;\n",
       "    }\n",
       "\n",
       "    .dataframe tbody tr th {\n",
       "        vertical-align: top;\n",
       "    }\n",
       "\n",
       "    .dataframe thead th {\n",
       "        text-align: right;\n",
       "    }\n",
       "</style>\n",
       "<table border=\"1\" class=\"dataframe\">\n",
       "  <thead>\n",
       "    <tr style=\"text-align: right;\">\n",
       "      <th></th>\n",
       "      <th>order_id</th>\n",
       "      <th>product_id</th>\n",
       "      <th>add_to_cart_order</th>\n",
       "      <th>reordered</th>\n",
       "    </tr>\n",
       "  </thead>\n",
       "  <tbody>\n",
       "    <tr>\n",
       "      <th>0</th>\n",
       "      <td>1</td>\n",
       "      <td>49302</td>\n",
       "      <td>1</td>\n",
       "      <td>1</td>\n",
       "    </tr>\n",
       "    <tr>\n",
       "      <th>1</th>\n",
       "      <td>1</td>\n",
       "      <td>11109</td>\n",
       "      <td>2</td>\n",
       "      <td>1</td>\n",
       "    </tr>\n",
       "    <tr>\n",
       "      <th>2</th>\n",
       "      <td>1</td>\n",
       "      <td>10246</td>\n",
       "      <td>3</td>\n",
       "      <td>0</td>\n",
       "    </tr>\n",
       "    <tr>\n",
       "      <th>3</th>\n",
       "      <td>1</td>\n",
       "      <td>49683</td>\n",
       "      <td>4</td>\n",
       "      <td>0</td>\n",
       "    </tr>\n",
       "    <tr>\n",
       "      <th>4</th>\n",
       "      <td>1</td>\n",
       "      <td>43633</td>\n",
       "      <td>5</td>\n",
       "      <td>1</td>\n",
       "    </tr>\n",
       "  </tbody>\n",
       "</table>\n",
       "</div>"
      ],
      "text/plain": [
       "   order_id  product_id  add_to_cart_order  reordered\n",
       "0         1       49302                  1          1\n",
       "1         1       11109                  2          1\n",
       "2         1       10246                  3          0\n",
       "3         1       49683                  4          0\n",
       "4         1       43633                  5          1"
      ]
     },
     "execution_count": 7,
     "metadata": {},
     "output_type": "execute_result"
    }
   ],
   "source": [
    "order.head()"
   ]
  },
  {
   "cell_type": "code",
   "execution_count": 9,
   "id": "ee48742b",
   "metadata": {
    "scrolled": true
   },
   "outputs": [
    {
     "data": {
      "text/plain": [
       "product_id\n",
       "1          76\n",
       "2           4\n",
       "3           6\n",
       "4          22\n",
       "5           1\n",
       "         ... \n",
       "49682       5\n",
       "49683    2413\n",
       "49686       7\n",
       "49687       1\n",
       "49688       4\n",
       "Name: order_id, Length: 39123, dtype: int64"
      ]
     },
     "execution_count": 9,
     "metadata": {},
     "output_type": "execute_result"
    }
   ],
   "source": [
    "#product.shape\n",
    "order.groupby(['product_id'])['order_id'].count()"
   ]
  },
  {
   "cell_type": "markdown",
   "id": "e0cfc7fa",
   "metadata": {},
   "source": [
    "# 数据整理"
   ]
  },
  {
   "cell_type": "code",
   "execution_count": 4,
   "id": "2727ee49",
   "metadata": {},
   "outputs": [],
   "source": [
    "#将order中的productid与name匹配\n",
    "r=order.copy()\n",
    "for i in range(len(r)):\n",
    "    a=int(r.loc[i,'product_id'])\n",
    "    r.loc[i,'product_name']=product['product_name'][a-1]\n",
    "r.head()\n",
    "x=r.loc[:,['order_id','product_name']]\n",
    "x.to_csv('order_products_name.csv', index=False)"
   ]
  },
  {
   "cell_type": "code",
   "execution_count": 7,
   "id": "4e034202",
   "metadata": {},
   "outputs": [
    {
     "data": {
      "text/html": [
       "<div>\n",
       "<style scoped>\n",
       "    .dataframe tbody tr th:only-of-type {\n",
       "        vertical-align: middle;\n",
       "    }\n",
       "\n",
       "    .dataframe tbody tr th {\n",
       "        vertical-align: top;\n",
       "    }\n",
       "\n",
       "    .dataframe thead th {\n",
       "        text-align: right;\n",
       "    }\n",
       "</style>\n",
       "<table border=\"1\" class=\"dataframe\">\n",
       "  <thead>\n",
       "    <tr style=\"text-align: right;\">\n",
       "      <th></th>\n",
       "      <th>order_id</th>\n",
       "      <th>product_id</th>\n",
       "      <th>add_to_cart_order</th>\n",
       "      <th>reordered</th>\n",
       "      <th>product_name</th>\n",
       "    </tr>\n",
       "  </thead>\n",
       "  <tbody>\n",
       "    <tr>\n",
       "      <th>0</th>\n",
       "      <td>1</td>\n",
       "      <td>49302</td>\n",
       "      <td>1</td>\n",
       "      <td>1</td>\n",
       "      <td>Bulgarian Yogurt</td>\n",
       "    </tr>\n",
       "    <tr>\n",
       "      <th>1</th>\n",
       "      <td>1</td>\n",
       "      <td>11109</td>\n",
       "      <td>2</td>\n",
       "      <td>1</td>\n",
       "      <td>Organic 4% Milk Fat Whole Milk Cottage Cheese</td>\n",
       "    </tr>\n",
       "    <tr>\n",
       "      <th>2</th>\n",
       "      <td>1</td>\n",
       "      <td>10246</td>\n",
       "      <td>3</td>\n",
       "      <td>0</td>\n",
       "      <td>Organic Celery Hearts</td>\n",
       "    </tr>\n",
       "    <tr>\n",
       "      <th>3</th>\n",
       "      <td>1</td>\n",
       "      <td>49683</td>\n",
       "      <td>4</td>\n",
       "      <td>0</td>\n",
       "      <td>Cucumber Kirby</td>\n",
       "    </tr>\n",
       "    <tr>\n",
       "      <th>4</th>\n",
       "      <td>1</td>\n",
       "      <td>43633</td>\n",
       "      <td>5</td>\n",
       "      <td>1</td>\n",
       "      <td>Lightly Smoked Sardines in Olive Oil</td>\n",
       "    </tr>\n",
       "  </tbody>\n",
       "</table>\n",
       "</div>"
      ],
      "text/plain": [
       "   order_id  product_id  add_to_cart_order  reordered  \\\n",
       "0         1       49302                  1          1   \n",
       "1         1       11109                  2          1   \n",
       "2         1       10246                  3          0   \n",
       "3         1       49683                  4          0   \n",
       "4         1       43633                  5          1   \n",
       "\n",
       "                                    product_name  \n",
       "0                               Bulgarian Yogurt  \n",
       "1  Organic 4% Milk Fat Whole Milk Cottage Cheese  \n",
       "2                          Organic Celery Hearts  \n",
       "3                                 Cucumber Kirby  \n",
       "4           Lightly Smoked Sardines in Olive Oil  "
      ]
     },
     "execution_count": 7,
     "metadata": {},
     "output_type": "execute_result"
    }
   ],
   "source": [
    "product.iloc[]"
   ]
  },
  {
   "cell_type": "code",
   "execution_count": 5,
   "id": "cb3946b7",
   "metadata": {},
   "outputs": [
    {
     "data": {
      "text/plain": [
       "[[49302, 11109, 10246, 49683, 43633, 13176, 47209],\n",
       " [39612, 19660, 49235, 43086, 46620, 34497, 48679],\n",
       " [11913, 18159, 4461, 21616, 23622, 32433, 28842, 42625],\n",
       " [20574, 30391, 40706, 25610, 27966, 24489]]"
      ]
     },
     "execution_count": 5,
     "metadata": {},
     "output_type": "execute_result"
    }
   ],
   "source": [
    "#整理为每个订单所包含什么product的形式\n",
    "df=order.iloc[:,:2]\n",
    "a=0\n",
    "dataset=[]\n",
    "for i in range(len(df)-1):\n",
    "    if df['order_id'][i] != df['order_id'][i+1]:\n",
    "        b=list(df['product_id'][a:i])\n",
    "        dataset.append(b)\n",
    "        a=i+1\n",
    "dataset[:4]"
   ]
  },
  {
   "cell_type": "code",
   "execution_count": 21,
   "id": "8b5421f0",
   "metadata": {
    "scrolled": true
   },
   "outputs": [
    {
     "data": {
      "text/html": [
       "<div>\n",
       "<style scoped>\n",
       "    .dataframe tbody tr th:only-of-type {\n",
       "        vertical-align: middle;\n",
       "    }\n",
       "\n",
       "    .dataframe tbody tr th {\n",
       "        vertical-align: top;\n",
       "    }\n",
       "\n",
       "    .dataframe thead th {\n",
       "        text-align: right;\n",
       "    }\n",
       "</style>\n",
       "<table border=\"1\" class=\"dataframe\">\n",
       "  <thead>\n",
       "    <tr style=\"text-align: right;\">\n",
       "      <th></th>\n",
       "      <th>product_id</th>\n",
       "    </tr>\n",
       "    <tr>\n",
       "      <th>order_id</th>\n",
       "      <th></th>\n",
       "    </tr>\n",
       "  </thead>\n",
       "  <tbody>\n",
       "    <tr>\n",
       "      <th>1</th>\n",
       "      <td>[49302, 11109, 10246, 49683, 43633, 13176, 472...</td>\n",
       "    </tr>\n",
       "    <tr>\n",
       "      <th>36</th>\n",
       "      <td>[39612, 19660, 49235, 43086, 46620, 34497, 486...</td>\n",
       "    </tr>\n",
       "    <tr>\n",
       "      <th>38</th>\n",
       "      <td>[11913, 18159, 4461, 21616, 23622, 32433, 2884...</td>\n",
       "    </tr>\n",
       "    <tr>\n",
       "      <th>96</th>\n",
       "      <td>[20574, 30391, 40706, 25610, 27966, 24489, 39275]</td>\n",
       "    </tr>\n",
       "    <tr>\n",
       "      <th>98</th>\n",
       "      <td>[8859, 19731, 43654, 13176, 4357, 37664, 34065...</td>\n",
       "    </tr>\n",
       "  </tbody>\n",
       "</table>\n",
       "</div>"
      ],
      "text/plain": [
       "                                                 product_id\n",
       "order_id                                                   \n",
       "1         [49302, 11109, 10246, 49683, 43633, 13176, 472...\n",
       "36        [39612, 19660, 49235, 43086, 46620, 34497, 486...\n",
       "38        [11913, 18159, 4461, 21616, 23622, 32433, 2884...\n",
       "96        [20574, 30391, 40706, 25610, 27966, 24489, 39275]\n",
       "98        [8859, 19731, 43654, 13176, 4357, 37664, 34065..."
      ]
     },
     "execution_count": 21,
     "metadata": {},
     "output_type": "execute_result"
    }
   ],
   "source": [
    "data.copy()\n",
    "data.iloc[:,1] = data.iloc[:,1].apply(int)\n",
    "data.iloc[:,0] = data.iloc[:,0].apply(int)\n",
    "a = data.iloc[:,[0,1]].groupby(by = ['order_id'])['product_id'].apply(list)\n",
    "a = a.to_frame()\n",
    "a.head()"
   ]
  },
  {
   "cell_type": "code",
   "execution_count": 19,
   "id": "4a021dd2",
   "metadata": {},
   "outputs": [],
   "source": [
    "#将dataset转化为one-hot encoded pandas DataFrame；不使用稀疏格式\n",
    "te = TransactionEncoder()\n",
    "#te_ary = te.fit(dataset).transform(dataset)\n",
    "origin_df = pd.DataFrame(pd.DataFrame(te.fit(a['product_id']).transform(a['product_id']),columns=te.columns_))\n",
    "\n",
    "\n",
    "#将dataset转化为one-hot encoded pandas DataFrame；使用稀疏格式\n",
    "te = TransactionEncoder()\n",
    "oht_ary = te.fit(a['product_id']).transform(a['product_id'], sparse=True)\n",
    "sparse_df = pd.DataFrame.sparse.from_spmatrix(oht_ary, columns=te.columns_)\n",
    "sparse_df.columns = [str(i) for i in sparse_df.columns]"
   ]
  },
  {
   "cell_type": "code",
   "execution_count": 22,
   "id": "a5b02110",
   "metadata": {
    "scrolled": true
   },
   "outputs": [
    {
     "data": {
      "text/html": [
       "<div>\n",
       "<style scoped>\n",
       "    .dataframe tbody tr th:only-of-type {\n",
       "        vertical-align: middle;\n",
       "    }\n",
       "\n",
       "    .dataframe tbody tr th {\n",
       "        vertical-align: top;\n",
       "    }\n",
       "\n",
       "    .dataframe thead th {\n",
       "        text-align: right;\n",
       "    }\n",
       "</style>\n",
       "<table border=\"1\" class=\"dataframe\">\n",
       "  <thead>\n",
       "    <tr style=\"text-align: right;\">\n",
       "      <th></th>\n",
       "      <th>1</th>\n",
       "      <th>2</th>\n",
       "      <th>3</th>\n",
       "      <th>4</th>\n",
       "      <th>5</th>\n",
       "      <th>7</th>\n",
       "      <th>8</th>\n",
       "      <th>9</th>\n",
       "      <th>10</th>\n",
       "      <th>11</th>\n",
       "      <th>...</th>\n",
       "      <th>49677</th>\n",
       "      <th>49678</th>\n",
       "      <th>49679</th>\n",
       "      <th>49680</th>\n",
       "      <th>49681</th>\n",
       "      <th>49682</th>\n",
       "      <th>49683</th>\n",
       "      <th>49686</th>\n",
       "      <th>49687</th>\n",
       "      <th>49688</th>\n",
       "    </tr>\n",
       "  </thead>\n",
       "  <tbody>\n",
       "    <tr>\n",
       "      <th>0</th>\n",
       "      <td>False</td>\n",
       "      <td>False</td>\n",
       "      <td>False</td>\n",
       "      <td>False</td>\n",
       "      <td>False</td>\n",
       "      <td>False</td>\n",
       "      <td>False</td>\n",
       "      <td>False</td>\n",
       "      <td>False</td>\n",
       "      <td>False</td>\n",
       "      <td>...</td>\n",
       "      <td>False</td>\n",
       "      <td>False</td>\n",
       "      <td>False</td>\n",
       "      <td>False</td>\n",
       "      <td>False</td>\n",
       "      <td>False</td>\n",
       "      <td>True</td>\n",
       "      <td>False</td>\n",
       "      <td>False</td>\n",
       "      <td>False</td>\n",
       "    </tr>\n",
       "    <tr>\n",
       "      <th>1</th>\n",
       "      <td>False</td>\n",
       "      <td>False</td>\n",
       "      <td>False</td>\n",
       "      <td>False</td>\n",
       "      <td>False</td>\n",
       "      <td>False</td>\n",
       "      <td>False</td>\n",
       "      <td>False</td>\n",
       "      <td>False</td>\n",
       "      <td>False</td>\n",
       "      <td>...</td>\n",
       "      <td>False</td>\n",
       "      <td>False</td>\n",
       "      <td>False</td>\n",
       "      <td>False</td>\n",
       "      <td>False</td>\n",
       "      <td>False</td>\n",
       "      <td>False</td>\n",
       "      <td>False</td>\n",
       "      <td>False</td>\n",
       "      <td>False</td>\n",
       "    </tr>\n",
       "    <tr>\n",
       "      <th>2</th>\n",
       "      <td>False</td>\n",
       "      <td>False</td>\n",
       "      <td>False</td>\n",
       "      <td>False</td>\n",
       "      <td>False</td>\n",
       "      <td>False</td>\n",
       "      <td>False</td>\n",
       "      <td>False</td>\n",
       "      <td>False</td>\n",
       "      <td>False</td>\n",
       "      <td>...</td>\n",
       "      <td>False</td>\n",
       "      <td>False</td>\n",
       "      <td>False</td>\n",
       "      <td>False</td>\n",
       "      <td>False</td>\n",
       "      <td>False</td>\n",
       "      <td>False</td>\n",
       "      <td>False</td>\n",
       "      <td>False</td>\n",
       "      <td>False</td>\n",
       "    </tr>\n",
       "    <tr>\n",
       "      <th>3</th>\n",
       "      <td>False</td>\n",
       "      <td>False</td>\n",
       "      <td>False</td>\n",
       "      <td>False</td>\n",
       "      <td>False</td>\n",
       "      <td>False</td>\n",
       "      <td>False</td>\n",
       "      <td>False</td>\n",
       "      <td>False</td>\n",
       "      <td>False</td>\n",
       "      <td>...</td>\n",
       "      <td>False</td>\n",
       "      <td>False</td>\n",
       "      <td>False</td>\n",
       "      <td>False</td>\n",
       "      <td>False</td>\n",
       "      <td>False</td>\n",
       "      <td>False</td>\n",
       "      <td>False</td>\n",
       "      <td>False</td>\n",
       "      <td>False</td>\n",
       "    </tr>\n",
       "    <tr>\n",
       "      <th>4</th>\n",
       "      <td>False</td>\n",
       "      <td>False</td>\n",
       "      <td>False</td>\n",
       "      <td>False</td>\n",
       "      <td>False</td>\n",
       "      <td>False</td>\n",
       "      <td>False</td>\n",
       "      <td>False</td>\n",
       "      <td>False</td>\n",
       "      <td>False</td>\n",
       "      <td>...</td>\n",
       "      <td>False</td>\n",
       "      <td>False</td>\n",
       "      <td>False</td>\n",
       "      <td>False</td>\n",
       "      <td>False</td>\n",
       "      <td>False</td>\n",
       "      <td>False</td>\n",
       "      <td>False</td>\n",
       "      <td>False</td>\n",
       "      <td>False</td>\n",
       "    </tr>\n",
       "  </tbody>\n",
       "</table>\n",
       "<p>5 rows × 39123 columns</p>\n",
       "</div>"
      ],
      "text/plain": [
       "   1      2      3      4      5      7      8      9      10     11     ...  \\\n",
       "0  False  False  False  False  False  False  False  False  False  False  ...   \n",
       "1  False  False  False  False  False  False  False  False  False  False  ...   \n",
       "2  False  False  False  False  False  False  False  False  False  False  ...   \n",
       "3  False  False  False  False  False  False  False  False  False  False  ...   \n",
       "4  False  False  False  False  False  False  False  False  False  False  ...   \n",
       "\n",
       "   49677  49678  49679  49680  49681  49682  49683  49686  49687  49688  \n",
       "0  False  False  False  False  False  False   True  False  False  False  \n",
       "1  False  False  False  False  False  False  False  False  False  False  \n",
       "2  False  False  False  False  False  False  False  False  False  False  \n",
       "3  False  False  False  False  False  False  False  False  False  False  \n",
       "4  False  False  False  False  False  False  False  False  False  False  \n",
       "\n",
       "[5 rows x 39123 columns]"
      ]
     },
     "execution_count": 22,
     "metadata": {},
     "output_type": "execute_result"
    }
   ],
   "source": [
    "origin_df.head()"
   ]
  },
  {
   "cell_type": "markdown",
   "id": "2e0e6389",
   "metadata": {},
   "source": [
    "# 关联规则挖掘 apriori和fpgrowth算法"
   ]
  },
  {
   "cell_type": "code",
   "execution_count": 28,
   "id": "1054b794",
   "metadata": {},
   "outputs": [],
   "source": [
    "#print(\"method = apriori, sparse = T\")\n",
    "supportLevels=[0.05, 0.01, 0.005]"
   ]
  },
  {
   "cell_type": "code",
   "execution_count": 44,
   "id": "ff2571e6",
   "metadata": {},
   "outputs": [],
   "source": [
    "def apriori_o(n):\n",
    "    time1=[]\n",
    "    for i in range(5):\n",
    "        t1=time.time()\n",
    "        #计算频繁项集\n",
    "        frequent_itemsets = apriori(origin_df, min_support=supportLevels[n], use_colnames=True,low_memory = False)\n",
    "        t2=time.time()\n",
    "        time1.append(t2-t1)\n",
    "    mean=sum(time1)/5\n",
    "    print(\"min_support=\",supportLevels[n],\": 运行时间是: {:9.9}s\".format(mean))\n",
    "    return mean"
   ]
  },
  {
   "cell_type": "code",
   "execution_count": 45,
   "id": "3ba12ec2",
   "metadata": {},
   "outputs": [],
   "source": [
    "def apriori_s(n):\n",
    "    time1=[]\n",
    "    for i in range(5):\n",
    "        t1=time.time()\n",
    "        #计算频繁项集\n",
    "        frequent_itemsets = apriori(sparse_df, min_support=supportLevels[n], use_colnames=True,low_memory = False)\n",
    "        t2=time.time()\n",
    "        time1.append(t2-t1)\n",
    "    mean=sum(time1)/5\n",
    "    print(\"min_support=\",supportLevels[n],\": 运行时间是: {:9.9}s\".format(mean))\n",
    "    return mean"
   ]
  },
  {
   "cell_type": "code",
   "execution_count": 46,
   "id": "de83dc86",
   "metadata": {},
   "outputs": [],
   "source": [
    "def fpgrowth_o(n):\n",
    "    time1=[]\n",
    "    for i in range(5):\n",
    "        t1=time.time()\n",
    "        #计算频繁项集\n",
    "        frequent_itemsets = fpgrowth(origin_df, min_support=supportLevels[n], use_colnames=True)\n",
    "        t2=time.time()\n",
    "        time1.append(t2-t1)\n",
    "    mean=sum(time1)/5\n",
    "    print(\"min_support=\",supportLevels[n],\": 运行时间是: {:9.9}s\".format(mean))\n",
    "    return mean"
   ]
  },
  {
   "cell_type": "code",
   "execution_count": 47,
   "id": "b50b8092",
   "metadata": {},
   "outputs": [],
   "source": [
    "def fpgrowth_s(n):\n",
    "    time1=[]\n",
    "    for i in range(5):\n",
    "        t1=time.time()\n",
    "        #计算频繁项集\n",
    "        frequent_itemsets = fpgrowth(sparse_df, min_support=supportLevels[n], use_colnames=True)\n",
    "        t2=time.time()\n",
    "        time1.append(t2-t1)\n",
    "    mean=sum(time1)/5\n",
    "    print(\"min_support=\",supportLevels[n],\": 运行时间是{:9.9}s\".format(mean))\n",
    "    return mean"
   ]
  },
  {
   "cell_type": "code",
   "execution_count": 50,
   "id": "91c235bd",
   "metadata": {},
   "outputs": [
    {
     "name": "stdout",
     "output_type": "stream",
     "text": [
      "min_support= 0.05 : 运行时间是: 5.35183735s\n",
      "min_support= 0.01 : 运行时间是: 26.304055s\n",
      "min_support= 0.005 : 运行时间是: 145.945445s\n"
     ]
    }
   ],
   "source": [
    "apro=[]\n",
    "for j in range(3):\n",
    "    a=apriori_o(j)\n",
    "    apro.append(a)"
   ]
  },
  {
   "cell_type": "code",
   "execution_count": 49,
   "id": "2b15e58e",
   "metadata": {},
   "outputs": [
    {
     "name": "stdout",
     "output_type": "stream",
     "text": [
      "min_support= 0.05 : 运行时间是: 0.561134577s\n",
      "min_support= 0.01 : 运行时间是: 4.21549654s\n",
      "min_support= 0.005 : 运行时间是: 26.2869054s\n"
     ]
    }
   ],
   "source": [
    "aprs=[]\n",
    "for j in range(3):\n",
    "    a=apriori_s(j)\n",
    "    aprs.append(a)"
   ]
  },
  {
   "cell_type": "code",
   "execution_count": 48,
   "id": "8772adc8",
   "metadata": {},
   "outputs": [
    {
     "name": "stdout",
     "output_type": "stream",
     "text": [
      "min_support= 0.05 : 运行时间是: 7.15972738s\n",
      "min_support= 0.01 : 运行时间是: 7.49951353s\n",
      "min_support= 0.005 : 运行时间是: 8.62701316s\n"
     ]
    }
   ],
   "source": [
    "fpgo=[]\n",
    "for j in range(3):\n",
    "    a=fpgrowth_o(j)\n",
    "    fpgo.append(a)"
   ]
  },
  {
   "cell_type": "code",
   "execution_count": 42,
   "id": "d0e8962a",
   "metadata": {},
   "outputs": [
    {
     "name": "stdout",
     "output_type": "stream",
     "text": [
      "min_support= 0.05 : 运行时间是0.926059294s\n",
      "min_support= 0.01 : 运行时间是 1.878476s\n",
      "min_support= 0.005 : 运行时间是2.91315603s\n"
     ]
    }
   ],
   "source": [
    "fpgs=[]\n",
    "for j in range(3):\n",
    "    a=fpgrowth_s(j)\n",
    "    fpgs.append(a)"
   ]
  }
 ],
 "metadata": {
  "kernelspec": {
   "display_name": "Python 3 (ipykernel)",
   "language": "python",
   "name": "python3"
  },
  "language_info": {
   "codemirror_mode": {
    "name": "ipython",
    "version": 3
   },
   "file_extension": ".py",
   "mimetype": "text/x-python",
   "name": "python",
   "nbconvert_exporter": "python",
   "pygments_lexer": "ipython3",
   "version": "3.9.12"
  }
 },
 "nbformat": 4,
 "nbformat_minor": 5
}
